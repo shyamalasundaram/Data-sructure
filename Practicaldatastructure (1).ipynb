{
  "nbformat": 4,
  "nbformat_minor": 0,
  "metadata": {
    "colab": {
      "provenance": []
    },
    "kernelspec": {
      "name": "python3",
      "display_name": "Python 3"
    },
    "language_info": {
      "name": "python"
    }
  },
  "cells": [
    {
      "cell_type": "markdown",
      "source": [
        "#Question 1:  Write a code to create a string with your name and print it.\n"
      ],
      "metadata": {
        "id": "PfC-NwbMqffi"
      }
    },
    {
      "cell_type": "code",
      "source": [
        "str= \"shyamala\"\n",
        "print(str)"
      ],
      "metadata": {
        "colab": {
          "base_uri": "https://localhost:8080/"
        },
        "id": "wV5m4MzJqdjV",
        "outputId": "7ca61dc2-7edc-4f09-d473-ec9755c2b5ff"
      },
      "execution_count": 3,
      "outputs": [
        {
          "output_type": "stream",
          "name": "stdout",
          "text": [
            "shyamala\n"
          ]
        }
      ]
    },
    {
      "cell_type": "markdown",
      "source": [
        "#Question 2:  Write a code to find the length of the string \"Hello World\".\n",
        "\n"
      ],
      "metadata": {
        "id": "i0WPIySHrnH9"
      }
    },
    {
      "cell_type": "code",
      "source": [
        "str =\"Hello World\"\n",
        "length = len(str)\n",
        "print(\"The length of the string is:\",length)"
      ],
      "metadata": {
        "colab": {
          "base_uri": "https://localhost:8080/"
        },
        "id": "jwOsyQTxryBz",
        "outputId": "0a4d86e9-d51a-4bb4-c418-1d1e6fbb3a9e"
      },
      "execution_count": 6,
      "outputs": [
        {
          "output_type": "stream",
          "name": "stdout",
          "text": [
            "The length of the string is: 11\n"
          ]
        }
      ]
    },
    {
      "cell_type": "markdown",
      "source": [
        "#Question 3:  Write a code to slice the first 3 characters from the string \"Python Programming\".\n"
      ],
      "metadata": {
        "id": "IVTkH7xhtVoW"
      }
    },
    {
      "cell_type": "code",
      "source": [
        "str = \"Python Programming\"\n",
        "sliced_string =str[ :3]\n",
        "print(\"The sliced string is:\",sliced_string)"
      ],
      "metadata": {
        "colab": {
          "base_uri": "https://localhost:8080/"
        },
        "id": "3rWAanlath_G",
        "outputId": "780a15b5-3e48-4ec3-e2ed-dada844889d0"
      },
      "execution_count": 9,
      "outputs": [
        {
          "output_type": "stream",
          "name": "stdout",
          "text": [
            "The sliced string is: Pyt\n"
          ]
        }
      ]
    },
    {
      "cell_type": "markdown",
      "source": [
        "#Question 4:  Write a code to convert the string \"hello\" to uppercase.\n"
      ],
      "metadata": {
        "id": "u_DJZRemufGB"
      }
    },
    {
      "cell_type": "code",
      "source": [
        "str = \"hello\"\n",
        "upper_case_str =str.upper()\n",
        "print(\"The string in uppercase is:\",upper_case_str)"
      ],
      "metadata": {
        "colab": {
          "base_uri": "https://localhost:8080/"
        },
        "id": "sUrmp2_2uavA",
        "outputId": "81e6d589-e1ab-4075-9b4a-53a6b2bbedf4"
      },
      "execution_count": 10,
      "outputs": [
        {
          "output_type": "stream",
          "name": "stdout",
          "text": [
            "The string in uppercase is: HELLO\n"
          ]
        }
      ]
    },
    {
      "cell_type": "markdown",
      "source": [
        "#Question 5:  Write a code to replace the word \"apple\" with \"orange\" in the string \"I like apple\".\n"
      ],
      "metadata": {
        "id": "OoOMleIgvhuj"
      }
    },
    {
      "cell_type": "code",
      "source": [
        "from os import replace\n",
        "str = \"I like apple\"\n",
        "replace_str = \"I like orange\"\n",
        "print(\"The replaced string is:\",replace_str)\n"
      ],
      "metadata": {
        "colab": {
          "base_uri": "https://localhost:8080/"
        },
        "id": "3bD4yn6KvgjS",
        "outputId": "ab9dfd02-f8a8-454a-dd83-5e5de9b7f634"
      },
      "execution_count": 11,
      "outputs": [
        {
          "output_type": "stream",
          "name": "stdout",
          "text": [
            "The replaced string is: I like orange\n"
          ]
        }
      ]
    },
    {
      "cell_type": "markdown",
      "source": [
        "#Question 6:  Write a code to create a list with numbers 1 to 5 and print it."
      ],
      "metadata": {
        "id": "WuewKBde2dBy"
      }
    },
    {
      "cell_type": "code",
      "source": [
        "#method 1\n",
        "numbers = [1,2,3,4,5]\n",
        "print(numbers)"
      ],
      "metadata": {
        "colab": {
          "base_uri": "https://localhost:8080/"
        },
        "id": "gfW2_D1c2n-B",
        "outputId": "389d97e5-f89b-4277-8524-948b64c42872"
      },
      "execution_count": 23,
      "outputs": [
        {
          "output_type": "stream",
          "name": "stdout",
          "text": [
            "[1, 2, 3, 4, 5]\n"
          ]
        }
      ]
    },
    {
      "cell_type": "code",
      "source": [
        "#method 2\n",
        "numbers = list(range(1,6))\n",
        "print(numbers)"
      ],
      "metadata": {
        "colab": {
          "base_uri": "https://localhost:8080/"
        },
        "id": "4_nnDGCn27C8",
        "outputId": "e02a7dd1-4ec7-4ce7-bf87-bea39707fe6e"
      },
      "execution_count": 30,
      "outputs": [
        {
          "output_type": "stream",
          "name": "stdout",
          "text": [
            "[1, 2, 3, 4, 5]\n"
          ]
        }
      ]
    },
    {
      "cell_type": "markdown",
      "source": [
        "#Question 7:  Write a code to append the number 10 to the list [1, 2, 3, 4]."
      ],
      "metadata": {
        "id": "AH7S88XW4DGe"
      }
    },
    {
      "cell_type": "code",
      "source": [
        "numbers = [1,2,3,4]\n",
        "numbers.append(10)\n",
        "print(numbers)"
      ],
      "metadata": {
        "colab": {
          "base_uri": "https://localhost:8080/"
        },
        "id": "4OD68KCk4J0i",
        "outputId": "417e26aa-b45b-45e2-8043-3d12ee3da3d8"
      },
      "execution_count": 32,
      "outputs": [
        {
          "output_type": "stream",
          "name": "stdout",
          "text": [
            "[1, 2, 3, 4, 10]\n"
          ]
        }
      ]
    },
    {
      "cell_type": "markdown",
      "source": [
        "#Question 8:  Write a code to remove the number 3 from the list [1, 2, 3, 4, 5]."
      ],
      "metadata": {
        "id": "z3xOjZHj6ED6"
      }
    },
    {
      "cell_type": "code",
      "source": [
        "numbers = [1,2,3,4,5]\n",
        "numbers.remove(3)\n",
        "print(numbers)"
      ],
      "metadata": {
        "colab": {
          "base_uri": "https://localhost:8080/"
        },
        "id": "xbRgYLTR6OTW",
        "outputId": "552caa81-82ea-4468-b9e3-b93b880fc671"
      },
      "execution_count": 33,
      "outputs": [
        {
          "output_type": "stream",
          "name": "stdout",
          "text": [
            "[1, 2, 4, 5]\n"
          ]
        }
      ]
    },
    {
      "cell_type": "markdown",
      "source": [
        "#Question 9:  Write a code to access the second element in the list ['a', 'b', 'c', 'd'].\n"
      ],
      "metadata": {
        "id": "WpH5UXcT6qTt"
      }
    },
    {
      "cell_type": "code",
      "source": [
        "list = ['a','b','c','d']\n",
        "second_element = list[1]\n",
        "print(second_element)"
      ],
      "metadata": {
        "colab": {
          "base_uri": "https://localhost:8080/"
        },
        "id": "mJFqkhhq6ycQ",
        "outputId": "6ddb3b95-dcb8-4020-9831-96611c597c58"
      },
      "execution_count": 34,
      "outputs": [
        {
          "output_type": "stream",
          "name": "stdout",
          "text": [
            "b\n"
          ]
        }
      ]
    },
    {
      "cell_type": "markdown",
      "source": [
        "#Question 10:  Write a code to reverse the list [10, 20, 30, 40, 50].\n"
      ],
      "metadata": {
        "id": "0T9m7G1g7wAb"
      }
    },
    {
      "cell_type": "code",
      "source": [
        "numbers =[10,20,30,40,50]\n",
        "numbers.reverse()\n",
        "print(numbers)"
      ],
      "metadata": {
        "colab": {
          "base_uri": "https://localhost:8080/"
        },
        "id": "Eb7L9xNf77mD",
        "outputId": "d950a9f2-74c3-4e4e-c7b7-027af961d25d"
      },
      "execution_count": 39,
      "outputs": [
        {
          "output_type": "stream",
          "name": "stdout",
          "text": [
            "[50, 40, 30, 20, 10]\n"
          ]
        }
      ]
    },
    {
      "cell_type": "markdown",
      "source": [
        "#Question 11: Write a code to create a tuple with the elements 100, 200, 300 and print it.\n"
      ],
      "metadata": {
        "id": "cbD1ArDD92wu"
      }
    },
    {
      "cell_type": "code",
      "source": [
        "#method 1\n",
        "numbers=(100,200,300)\n",
        "print(numbers)\n",
        "\n",
        "#method 2\n",
        "numbers=tuple([100,200,300])\n",
        "print(numbers)"
      ],
      "metadata": {
        "colab": {
          "base_uri": "https://localhost:8080/"
        },
        "id": "F7GDo3Ne9-pm",
        "outputId": "7d3b9f18-a6e8-4a0b-d77e-a70f797f96fc"
      },
      "execution_count": 41,
      "outputs": [
        {
          "output_type": "stream",
          "name": "stdout",
          "text": [
            "(100, 200, 300)\n",
            "(100, 200, 300)\n"
          ]
        }
      ]
    },
    {
      "cell_type": "markdown",
      "source": [
        "#Question 12: Write a code to access the second-to-last element of the tuple ('red', 'green', 'blue', 'yellow').\n"
      ],
      "metadata": {
        "id": "WufD4iGK-yQU"
      }
    },
    {
      "cell_type": "code",
      "source": [
        "colors = ('red','green','blue','yellow')\n",
        "second_to_last =colors[-2]\n",
        "print(second_to_last)"
      ],
      "metadata": {
        "colab": {
          "base_uri": "https://localhost:8080/"
        },
        "id": "7h3xzGTj-5Q-",
        "outputId": "457587e6-9a0c-4b73-e539-4a670633df80"
      },
      "execution_count": 44,
      "outputs": [
        {
          "output_type": "stream",
          "name": "stdout",
          "text": [
            "blue\n"
          ]
        }
      ]
    },
    {
      "cell_type": "markdown",
      "source": [
        "#Question 13: Write a code to find the minimum number in the tuple (10, 20, 5, 15).\n"
      ],
      "metadata": {
        "id": "Z_BHvFdk_76b"
      }
    },
    {
      "cell_type": "code",
      "source": [
        "tuple = (10, 20, 5, 15)\n",
        "minimum_number = min(tuple)\n",
        "print(minimum_number)\n"
      ],
      "metadata": {
        "colab": {
          "base_uri": "https://localhost:8080/"
        },
        "id": "scL3SLm-ACiF",
        "outputId": "f0a31dc0-e813-4e71-9099-0e94a0ed350f"
      },
      "execution_count": 45,
      "outputs": [
        {
          "output_type": "stream",
          "name": "stdout",
          "text": [
            "5\n"
          ]
        }
      ]
    },
    {
      "cell_type": "markdown",
      "source": [
        "#Question 14: Write a code to find the index of the element \"cat\" in the tuple ('dog', 'cat', 'rabbit').\n"
      ],
      "metadata": {
        "id": "bGORDfwcBK7V"
      }
    },
    {
      "cell_type": "code",
      "source": [
        "tuple = ('dog','cat','rabbit')\n",
        "index = tuple.index('cat')\n",
        "print(index)"
      ],
      "metadata": {
        "colab": {
          "base_uri": "https://localhost:8080/"
        },
        "id": "izQhxIvoBR_l",
        "outputId": "1790a46f-f478-4349-8fa5-eba9fa9159a7"
      },
      "execution_count": 47,
      "outputs": [
        {
          "output_type": "stream",
          "name": "stdout",
          "text": [
            "1\n"
          ]
        }
      ]
    },
    {
      "cell_type": "markdown",
      "source": [
        "#Question 15: Write a code to create a tuple containing three different fruits and check if \"kiwi\" is in it.\n"
      ],
      "metadata": {
        "id": "KaZFd_vcCIfb"
      }
    },
    {
      "cell_type": "code",
      "source": [
        "fruits = (\"apple\", \"banana\", \"cherry\")        #create tuple\n",
        "if \"kiwi\" in fruits:                          # Check if \"kiwi\" is in the tuple\n",
        "  print(\"Yes, kiwi is in the fruits tuple\")\n",
        "else:\n",
        "  print(\"No, kiwi is not in the fruits tuple\")\n"
      ],
      "metadata": {
        "colab": {
          "base_uri": "https://localhost:8080/"
        },
        "id": "fcJpakbbCYpq",
        "outputId": "c609c2bf-c731-402d-96d6-5f140cf6a950"
      },
      "execution_count": 48,
      "outputs": [
        {
          "output_type": "stream",
          "name": "stdout",
          "text": [
            "No, kiwi is not in the fruits tuple\n"
          ]
        }
      ]
    },
    {
      "cell_type": "markdown",
      "source": [
        "#Question 16: Write a code to create a set with the elements 'a', 'b', 'c' and print it.\n",
        "\n"
      ],
      "metadata": {
        "id": "x53P6dalC8VX"
      }
    },
    {
      "cell_type": "code",
      "source": [
        "set = {'a','b','c'}\n",
        "print(set)"
      ],
      "metadata": {
        "colab": {
          "base_uri": "https://localhost:8080/"
        },
        "id": "IFC1NcUNDIbE",
        "outputId": "65f9daee-ec8d-42f6-d58c-fa38958fcd56"
      },
      "execution_count": 50,
      "outputs": [
        {
          "output_type": "stream",
          "name": "stdout",
          "text": [
            "{'c', 'b', 'a'}\n"
          ]
        }
      ]
    },
    {
      "cell_type": "markdown",
      "source": [
        "#Question 17: Write a code to clear all elements from the set {1, 2, 3, 4, 5}.\n"
      ],
      "metadata": {
        "id": "3DjjYnyDDqm3"
      }
    },
    {
      "cell_type": "code",
      "source": [
        "set = {1,2,3,4,5}\n",
        "set.clear()\n",
        "print(\"set after clearing:\",set)"
      ],
      "metadata": {
        "colab": {
          "base_uri": "https://localhost:8080/"
        },
        "id": "1kNSlS6pD1nO",
        "outputId": "c60fcf81-05ff-42ba-c693-bdccfdd6f14b"
      },
      "execution_count": 51,
      "outputs": [
        {
          "output_type": "stream",
          "name": "stdout",
          "text": [
            "set after clearing: set()\n"
          ]
        }
      ]
    },
    {
      "cell_type": "markdown",
      "source": [
        "#Question 18: Write a code to remove the element 4 from the set {1, 2, 3, 4}.\n"
      ],
      "metadata": {
        "id": "hT_R9mmpFC_L"
      }
    },
    {
      "cell_type": "code",
      "source": [
        "set= {1,2,3,4}\n",
        "set.discard(4)\n",
        "print(set)"
      ],
      "metadata": {
        "colab": {
          "base_uri": "https://localhost:8080/"
        },
        "id": "kcZWi-TjHOEQ",
        "outputId": "be16a09a-5739-4203-a215-1db3ef51f746"
      },
      "execution_count": 60,
      "outputs": [
        {
          "output_type": "stream",
          "name": "stdout",
          "text": [
            "{1, 2, 3}\n"
          ]
        }
      ]
    },
    {
      "cell_type": "markdown",
      "source": [
        "#Question 19: Write a code to find the union of two sets {1, 2, 3} and {3, 4, 5}.\n"
      ],
      "metadata": {
        "id": "OG0Dh5FvHf5D"
      }
    },
    {
      "cell_type": "code",
      "source": [
        "from re import S\n",
        "from typing import Union\n",
        "s1 = {1,2,3}\n",
        "s2 = {3,4,5}\n",
        "union_set =s1.union(s2)\n",
        "print(union_set)"
      ],
      "metadata": {
        "colab": {
          "base_uri": "https://localhost:8080/"
        },
        "id": "awwI6bSxHobk",
        "outputId": "ded58484-976f-478d-cc0e-2cb6be21960e"
      },
      "execution_count": 62,
      "outputs": [
        {
          "output_type": "stream",
          "name": "stdout",
          "text": [
            "{1, 2, 3, 4, 5}\n"
          ]
        }
      ]
    },
    {
      "cell_type": "markdown",
      "source": [
        "#Question 20: Write a code to find the intersection of two sets {1, 2, 3} and {2, 3, 4}.\n"
      ],
      "metadata": {
        "id": "VoEBjUlbI2m9"
      }
    },
    {
      "cell_type": "code",
      "source": [
        "s1 ={1,2,3}\n",
        "s2 ={2,3,4}\n",
        "intersection_set= s1.intersection (s2)\n",
        "print(intersection_set)"
      ],
      "metadata": {
        "colab": {
          "base_uri": "https://localhost:8080/"
        },
        "id": "3lmODJsTJhtA",
        "outputId": "1b495bd3-69d2-4b32-d440-009e7425108f"
      },
      "execution_count": 64,
      "outputs": [
        {
          "output_type": "stream",
          "name": "stdout",
          "text": [
            "{2, 3}\n"
          ]
        }
      ]
    },
    {
      "cell_type": "markdown",
      "source": [
        "#Question 21: Write a code to create a dictionary with the keys \"name\", \"age\", and \"city\", and print it.\n"
      ],
      "metadata": {
        "id": "xnFsnkDIKMo9"
      }
    },
    {
      "cell_type": "code",
      "source": [
        "my_dict = {\n",
        "\n",
        "           \"name\": \"Shyamala\",\n",
        "            \"age\": 30,\n",
        "           \"city\": \"Bangalore\"\n",
        "}\n",
        "print(my_dict)\n"
      ],
      "metadata": {
        "colab": {
          "base_uri": "https://localhost:8080/"
        },
        "id": "I09cvSFHKUEy",
        "outputId": "7832918a-117b-43f2-ef4a-0dd4a463ea4c"
      },
      "execution_count": 5,
      "outputs": [
        {
          "output_type": "stream",
          "name": "stdout",
          "text": [
            "{'name': 'Shyamala', 'age': 30, 'city': 'Bangalore'}\n"
          ]
        }
      ]
    },
    {
      "cell_type": "markdown",
      "source": [
        "#Question 22: Write a code to add a new key-value pair \"country\": \"USA\" to the dictionary {'name': 'John', 'age': 25}.\n"
      ],
      "metadata": {
        "id": "jz48psnq-5w5"
      }
    },
    {
      "cell_type": "code",
      "source": [
        "person = {'name': 'John','age':25}\n",
        "person.update({'Country':'USA'})\n",
        "print(person)"
      ],
      "metadata": {
        "colab": {
          "base_uri": "https://localhost:8080/"
        },
        "id": "-vZxanOy_LDW",
        "outputId": "6d26907c-c049-40a5-d9c7-09e68ddfc5de"
      },
      "execution_count": 7,
      "outputs": [
        {
          "output_type": "stream",
          "name": "stdout",
          "text": [
            "{'name': 'John', 'age': 25, 'Country': 'USA'}\n"
          ]
        }
      ]
    },
    {
      "cell_type": "markdown",
      "source": [
        "#Ques"
      ],
      "metadata": {
        "id": "VJ4DSD5R-3pD"
      }
    },
    {
      "cell_type": "markdown",
      "source": [
        "#Question 23: Write a code to access the value associated with the key \"name\" in the dictionary {'name': 'Alice', 'age': 30}.\n"
      ],
      "metadata": {
        "id": "zfkezZp-EA2d"
      }
    },
    {
      "cell_type": "code",
      "source": [
        "person = {'name':'Alice','age':30}\n",
        "name = person['name']\n",
        "print(name)"
      ],
      "metadata": {
        "colab": {
          "base_uri": "https://localhost:8080/"
        },
        "id": "PIcnIxINFm4V",
        "outputId": "83413634-d375-4ad1-d7f5-f060d121d061"
      },
      "execution_count": 8,
      "outputs": [
        {
          "output_type": "stream",
          "name": "stdout",
          "text": [
            "Alice\n"
          ]
        }
      ]
    },
    {
      "cell_type": "markdown",
      "source": [
        "#Question 24: Write a code to remove the key \"age\" from the dictionary {'name': 'Bob', 'age': 22, 'city': 'New York'}.\n"
      ],
      "metadata": {
        "id": "n1HMrMGDG9Jx"
      }
    },
    {
      "cell_type": "code",
      "source": [
        "person = {'name': 'Bob','age':22,'city':'New York'}\n",
        "del person['age']\n",
        "print(person)"
      ],
      "metadata": {
        "colab": {
          "base_uri": "https://localhost:8080/"
        },
        "id": "EtEtxTzvHOqI",
        "outputId": "07787891-deb5-4df6-e174-2f3776a162e4"
      },
      "execution_count": 11,
      "outputs": [
        {
          "output_type": "stream",
          "name": "stdout",
          "text": [
            "{'name': 'Bob', 'city': 'New York'}\n"
          ]
        }
      ]
    },
    {
      "cell_type": "markdown",
      "source": [
        "#Question 25: Write a code to check if the key \"city\" exists in the dictionary {'name': 'Alice', 'city': 'Paris'}.\n"
      ],
      "metadata": {
        "id": "x691S2CVJIzn"
      }
    },
    {
      "cell_type": "code",
      "source": [
        "person = {'name':'Alice','city':'Paris'}\n",
        "if 'city' in person:\n",
        "  print(\"The key 'city' exists in the dictioanry.\")\n",
        "else:\n",
        "  print(\"The key 'city'does not exists in the dictionary.\")"
      ],
      "metadata": {
        "colab": {
          "base_uri": "https://localhost:8080/"
        },
        "id": "LP0yaC-OK5NF",
        "outputId": "f448abea-3e54-4832-dcf3-94db454df52e"
      },
      "execution_count": 12,
      "outputs": [
        {
          "output_type": "stream",
          "name": "stdout",
          "text": [
            "The key 'city' exists in the dictioanry.\n"
          ]
        }
      ]
    },
    {
      "cell_type": "markdown",
      "source": [
        "#Question 26: Write a code to create a list, a tuple, and a dictionary, and print them all.\n"
      ],
      "metadata": {
        "id": "IggOdSHkNS2a"
      }
    },
    {
      "cell_type": "code",
      "source": [
        "my_list =[1,2,3,4,5]\n",
        "print(\"List:\",my_list)\n",
        "\n",
        "my_tuple =(6,7,8,9,10)\n",
        "print(\"Tuple:\",my_tuple)\n",
        "\n",
        "my_dict ={'name':'Dev','age':20,'city':'Bangalore'}\n",
        "print(\"Dictionary:\",my_dict)"
      ],
      "metadata": {
        "colab": {
          "base_uri": "https://localhost:8080/"
        },
        "id": "E8s1uoLoNbRs",
        "outputId": "3f47f446-7d30-4dd2-d858-1f1f81423271"
      },
      "execution_count": 13,
      "outputs": [
        {
          "output_type": "stream",
          "name": "stdout",
          "text": [
            "List: [1, 2, 3, 4, 5]\n",
            "Tuple: (6, 7, 8, 9, 10)\n",
            "Dictionary: {'name': 'Dev', 'age': 20, 'city': 'Bangalore'}\n"
          ]
        }
      ]
    },
    {
      "cell_type": "markdown",
      "source": [
        "#Question 27: Write a code to create a list of 5 random numbers between 1 and 100, sort it in ascending order, and print the result.\n"
      ],
      "metadata": {
        "id": "KpbNKJgutwES"
      }
    },
    {
      "cell_type": "code",
      "source": [
        "#generate a list of 5 random numbers between 1 and 100\n",
        "import random\n",
        "random_numbers = random.sample(range(1,101),5)\n",
        "print(\"original list:\",random_numbers)\n",
        "\n",
        "#sort the list in ascending order\n",
        "random_numbers.sort()\n",
        "print(\"sorted list:\",random_numbers)"
      ],
      "metadata": {
        "colab": {
          "base_uri": "https://localhost:8080/"
        },
        "id": "RMnoJ-4Vt6Kh",
        "outputId": "9b5bdede-8b21-4a03-faae-17bdd466b27f"
      },
      "execution_count": 4,
      "outputs": [
        {
          "output_type": "stream",
          "name": "stdout",
          "text": [
            "original list: [59, 13, 88, 16, 5]\n",
            "sorted list: [5, 13, 16, 59, 88]\n"
          ]
        }
      ]
    },
    {
      "cell_type": "markdown",
      "source": [
        "#Question 28: Write a code to create a list with strings and print the element at the third index.\n"
      ],
      "metadata": {
        "id": "vGHAXiqOwGk6"
      }
    },
    {
      "cell_type": "code",
      "source": [
        "string_list =['apple','banana','orange','grapes']\n",
        "print(string_list[2])                                    #print the element at the third index"
      ],
      "metadata": {
        "colab": {
          "base_uri": "https://localhost:8080/"
        },
        "id": "zlpe-73Nwncf",
        "outputId": "f42531af-23d1-4e08-a8ba-8fba501a3c0b"
      },
      "execution_count": 5,
      "outputs": [
        {
          "output_type": "stream",
          "name": "stdout",
          "text": [
            "orange\n"
          ]
        }
      ]
    },
    {
      "cell_type": "markdown",
      "source": [
        "#Question 29: Write a code to combine two dictionaries into one and print the result.\n"
      ],
      "metadata": {
        "id": "QOpSElB8xRDi"
      }
    },
    {
      "cell_type": "code",
      "source": [
        "dict1 = {'a':1,'b':2}\n",
        "dict2 = {'c':3,'d':4}\n",
        "combined_dict ={**dict1,**dict2}\n",
        "print(combined_dict)"
      ],
      "metadata": {
        "colab": {
          "base_uri": "https://localhost:8080/"
        },
        "id": "IVz1nxUJxmRC",
        "outputId": "25e7fd37-20fb-4589-9154-862522b407e4"
      },
      "execution_count": 7,
      "outputs": [
        {
          "output_type": "stream",
          "name": "stdout",
          "text": [
            "{'a': 1, 'b': 2, 'c': 3, 'd': 4}\n"
          ]
        }
      ]
    },
    {
      "cell_type": "markdown",
      "source": [
        "#Question 30: Write a code to convert a list of strings into a set.\n"
      ],
      "metadata": {
        "id": "jxlrZkBHzQKy"
      }
    },
    {
      "cell_type": "code",
      "source": [
        "string_list=['apple','orange','banana','orange','apple']\n",
        "strings_set =set(string_list)\n",
        "print(strings_set)"
      ],
      "metadata": {
        "colab": {
          "base_uri": "https://localhost:8080/"
        },
        "id": "zD8lGAlUzXjf",
        "outputId": "2fb6d412-4b23-457d-d50d-58838b023d82"
      },
      "execution_count": 8,
      "outputs": [
        {
          "output_type": "stream",
          "name": "stdout",
          "text": [
            "{'orange', 'apple', 'banana'}\n"
          ]
        }
      ]
    }
  ]
}